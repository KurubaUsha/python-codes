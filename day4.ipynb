{
 "cells": [
  {
   "cell_type": "code",
   "execution_count": 1,
   "id": "f2fb14d8-f4ff-4b2d-98b1-77f32aa1a457",
   "metadata": {},
   "outputs": [
    {
     "name": "stdin",
     "output_type": "stream",
     "text": [
      " fgty\n"
     ]
    },
    {
     "name": "stdout",
     "output_type": "stream",
     "text": [
      "not a palindrome\n"
     ]
    }
   ],
   "source": [
    "a=input()\n",
    "flag=0\n",
    "for i in range(0,int(len(a)/2)):\n",
    "    if a[i]  !=a[(i+1)*-1]:\n",
    "        flag=1\n",
    "        break\n",
    "if flag:    \n",
    "        print(\"not a palindrome\")\n",
    "else:\n",
    "     print(\"palindrome\")"
   ]
  },
  {
   "cell_type": "code",
   "execution_count": 6,
   "id": "61b37a0a-9daa-4f7e-998b-fd326561207a",
   "metadata": {},
   "outputs": [
    {
     "name": "stdin",
     "output_type": "stream",
     "text": [
      "enter a number: 200\n"
     ]
    },
    {
     "name": "stdout",
     "output_type": "stream",
     "text": [
      "not a prime number\n"
     ]
    }
   ],
   "source": [
    "n=int(input(\"enter a number:\"))\n",
    "for x in range(2,int(n/2)):\n",
    "        if n%x==0:\n",
    "            flag=1\n",
    "            break\n",
    "if flag:\n",
    "        print(\"not a prime number\")\n",
    "else:\n",
    "    print(\"is a prime number\")"
   ]
  },
  {
   "cell_type": "code",
   "execution_count": 14,
   "id": "4b1394b6-3297-4978-9b01-44d90348e685",
   "metadata": {},
   "outputs": [
    {
     "name": "stdin",
     "output_type": "stream",
     "text": [
      " 11\n"
     ]
    },
    {
     "name": "stdout",
     "output_type": "stream",
     "text": [
      "a is prime number\n"
     ]
    }
   ],
   "source": [
    "a=int(input())\n",
    "for i in range(2,int(a/2)):\n",
    "    if a%i==0:\n",
    "         print(\"a is not prime number\")\n",
    "         break\n",
    "else:\n",
    "    print(\"a is prime number\")"
   ]
  },
  {
   "cell_type": "code",
   "execution_count": null,
   "id": "4f48fd2d-e4cd-4079-9607-80e25783ad79",
   "metadata": {},
   "outputs": [],
   "source": [
    "if_name__=='__main__':\n",
    "filename=\"example.txt\"\n",
    "new_filename=\"new_example.txt\"\n",
    "create_file(filename)\n",
    "read_file(filename)\n",
    "append_file(filename,\"This is some additional text\\n\")\n",
    "read_file(filename)\n",
    "read_file(,new_filename)"
   ]
  },
  {
   "cell_type": "code",
   "execution_count": 28,
   "id": "5c4e3430-f407-4cd3-b65a-dad91d4e058c",
   "metadata": {},
   "outputs": [],
   "source": [
    "import os\n",
    "with open(\"fruit name txt\",'w') as f:\n",
    "    f.write(\"apple\\n\")\n",
    "    f.write(\"banana\\n\")\n",
    "    f.write(\"mango\\n\")\n",
    "    f.write(\"grapes\\n\")\n",
    "with open(\"fruits name.txt\",)"
   ]
  },
  {
   "cell_type": "code",
   "execution_count": null,
   "id": "338439aa-052b-4cd8-b7c1-b7f8ac7af1b1",
   "metadata": {},
   "outputs": [],
   "source": []
  }
 ],
 "metadata": {
  "kernelspec": {
   "display_name": "Python 3 (ipykernel)",
   "language": "python",
   "name": "python3"
  },
  "language_info": {
   "codemirror_mode": {
    "name": "ipython",
    "version": 3
   },
   "file_extension": ".py",
   "mimetype": "text/x-python",
   "name": "python",
   "nbconvert_exporter": "python",
   "pygments_lexer": "ipython3",
   "version": "3.12.3"
  }
 },
 "nbformat": 4,
 "nbformat_minor": 5
}
