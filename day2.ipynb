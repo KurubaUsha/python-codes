{
 "cells": [
  {
   "cell_type": "code",
   "execution_count": 1,
   "id": "eae6c3e8-9502-41d9-8540-146bd1090518",
   "metadata": {},
   "outputs": [
    {
     "name": "stdin",
     "output_type": "stream",
     "text": [
      "enter the name: usha\n",
      "enter the age: 19\n"
     ]
    },
    {
     "name": "stdout",
     "output_type": "stream",
     "text": [
      "usha\n",
      "you are eligible\n"
     ]
    }
   ],
   "source": [
    "Name=input(\"enter the name:\")\n",
    "age=int(input(\"enter the age:\"))\n",
    "if age>=18:\n",
    "        print(Name)\n",
    "        print(\"you are eligible\")\n",
    "else:\n",
    "        print(Name)\n",
    "        print(\"your not eligible\")"
   ]
  },
  {
   "cell_type": "code",
   "execution_count": 2,
   "id": "9eea71ab-9148-4e10-8791-26544db3e1dd",
   "metadata": {},
   "outputs": [
    {
     "name": "stdin",
     "output_type": "stream",
     "text": [
      "enter the value of a: 964\n",
      "enter the value of b: 326\n"
     ]
    },
    {
     "name": "stdout",
     "output_type": "stream",
     "text": [
      "964\n",
      " a is greater:\n"
     ]
    }
   ],
   "source": [
    "a=int(input(\"enter the value of a:\"))\n",
    "b=int(input(\"enter the value of b:\"))\n",
    "if a>b:\n",
    "      print(a)\n",
    "      print(\" a is greater:\")\n",
    "else:\n",
    "    print(b)\n",
    "    print(\"b is greater:\")"
   ]
  },
  {
   "cell_type": "code",
   "execution_count": 3,
   "id": "fc4de221-9dd7-42db-948a-787d5454af9f",
   "metadata": {},
   "outputs": [
    {
     "name": "stdin",
     "output_type": "stream",
     "text": [
      " 466\n",
      " 76\n",
      " 9\n"
     ]
    },
    {
     "name": "stdout",
     "output_type": "stream",
     "text": [
      "a is greater\n"
     ]
    }
   ],
   "source": [
    "a=int(input())\n",
    "b=int(input())\n",
    "c=int(input())\n",
    "if a>b:\n",
    "    if a>c:\n",
    "        print(\"a is greater\")\n",
    "    else:\n",
    "        print(\"c is geater\")\n",
    "else:        \n",
    "    if b>c:\n",
    "          print(\"b is greater\")\n",
    "    else:\n",
    "          print(\"c is greater\")\n",
    "      "
   ]
  },
  {
   "cell_type": "code",
   "execution_count": 5,
   "id": "2d5daec7-9383-40a7-8035-aa54385cfba6",
   "metadata": {},
   "outputs": [
    {
     "name": "stdin",
     "output_type": "stream",
     "text": [
      "enter the marks: 64\n"
     ]
    },
    {
     "name": "stdout",
     "output_type": "stream",
     "text": [
      "grade is B\n"
     ]
    }
   ],
   "source": [
    "marks=int(input(\"enter the marks:\"))\n",
    "if marks>=90 and marks<=100:\n",
    "   print(\"grade is A+\")\n",
    "else:\n",
    "    if marks>=80 and marks<=90:\n",
    "          print(\"grade is A\")\n",
    "    else:      \n",
    "        if marks>=70 and marks<=80:\n",
    "            print(\"grade is B+\")\n",
    "        else:\n",
    "            if marks>=60 and marks<=70:\n",
    "                print(\"grade is B\")\n",
    "            else:\n",
    "                if marks>=50 and marks<=60:\n",
    "                    print(\"grade is C\")\n",
    "                else:\n",
    "                     if marks>=40 and marks<=50:\n",
    "                         print(\"grade is D\")\n",
    "                     else:\n",
    "                        if marks>30 and marks<=40:\n",
    "                              print(\"grade is E\")\n",
    "                        else:\n",
    "                             if marks>0 and marks<=30:\n",
    "                                   print(\"grade is F\")\n",
    "          "
   ]
  },
  {
   "cell_type": "code",
   "execution_count": 48,
   "id": "5d3e4190-77ad-47c4-8dab-89ba76a731a8",
   "metadata": {},
   "outputs": [
    {
     "name": "stdout",
     "output_type": "stream",
     "text": [
      "0\n",
      "1\n",
      "2\n",
      "3\n",
      "4\n",
      "5\n",
      "6\n",
      "7\n",
      "8\n",
      "9\n"
     ]
    }
   ],
   "source": [
    "x=0\n",
    "while x<10:\n",
    "     print(x)\n",
    "     x=x+1"
   ]
  },
  {
   "cell_type": "code",
   "execution_count": 47,
   "id": "56a09fe4-167e-4a8a-912a-87e4a1c9359b",
   "metadata": {},
   "outputs": [
    {
     "name": "stdout",
     "output_type": "stream",
     "text": [
      "0\n",
      "1\n",
      "2\n",
      "3\n",
      "4\n",
      "5\n",
      "6\n",
      "7\n",
      "8\n",
      "9\n"
     ]
    }
   ],
   "source": [
    "for z in range(0,10):\n",
    "    print(z)"
   ]
  },
  {
   "cell_type": "code",
   "execution_count": 6,
   "id": "f88e0f7d-a2c0-425d-a506-4693aae18fd8",
   "metadata": {},
   "outputs": [
    {
     "name": "stdin",
     "output_type": "stream",
     "text": [
      "enter the length of the series: 3\n"
     ]
    },
    {
     "name": "stdout",
     "output_type": "stream",
     "text": [
      "0 1 "
     ]
    },
    {
     "ename": "TypeError",
     "evalue": "unsupported operand type(s) for -: 'str' and 'int'",
     "output_type": "error",
     "traceback": [
      "\u001b[1;31m---------------------------------------------------------------------------\u001b[0m",
      "\u001b[1;31mTypeError\u001b[0m                                 Traceback (most recent call last)",
      "Cell \u001b[1;32mIn[6], line 5\u001b[0m\n\u001b[0;32m      3\u001b[0m n\u001b[38;5;241m=\u001b[39m(\u001b[38;5;28minput\u001b[39m(\u001b[38;5;124m\"\u001b[39m\u001b[38;5;124menter the length of the series:\u001b[39m\u001b[38;5;124m\"\u001b[39m))\n\u001b[0;32m      4\u001b[0m \u001b[38;5;28mprint\u001b[39m(a,b,end\u001b[38;5;241m=\u001b[39m\u001b[38;5;124m\"\u001b[39m\u001b[38;5;124m \u001b[39m\u001b[38;5;124m\"\u001b[39m)\n\u001b[1;32m----> 5\u001b[0m \u001b[38;5;28;01mfor\u001b[39;00m x \u001b[38;5;129;01min\u001b[39;00m \u001b[38;5;28mrange\u001b[39m(\u001b[38;5;241m0\u001b[39m,\u001b[43mn\u001b[49m\u001b[38;5;241;43m-\u001b[39;49m\u001b[38;5;241;43m2\u001b[39;49m):\n\u001b[0;32m      6\u001b[0m                c\u001b[38;5;241m=\u001b[39ma\u001b[38;5;241m+\u001b[39mb\n\u001b[0;32m      7\u001b[0m                \u001b[38;5;28mprint\u001b[39m(c,end\u001b[38;5;241m=\u001b[39m\u001b[38;5;124m\"\u001b[39m\u001b[38;5;124m \u001b[39m\u001b[38;5;124m\"\u001b[39m)\n",
      "\u001b[1;31mTypeError\u001b[0m: unsupported operand type(s) for -: 'str' and 'int'"
     ]
    }
   ],
   "source": [
    "a=0\n",
    "b=1\n",
    "n=(input(\"enter the length of the series:\"))\n",
    "print(a,b,end=\" \")\n",
    "for x in range(0,n-2):\n",
    "               c=a+b\n",
    "               print(c,end=\" \")\n",
    "               a=b\n",
    "               b=c\n",
    "\n"
   ]
  },
  {
   "cell_type": "code",
   "execution_count": 7,
   "id": "5940d2ac-1da5-43b5-a47e-c70c20381e0e",
   "metadata": {},
   "outputs": [
    {
     "name": "stdin",
     "output_type": "stream",
     "text": [
      "enter the value of a: 20\n",
      "enter the value of b: 4\n",
      "enter the operator: /\n"
     ]
    },
    {
     "name": "stdout",
     "output_type": "stream",
     "text": [
      "quotient= 5.0\n"
     ]
    }
   ],
   "source": [
    "a=int(input(\"enter the value of a:\"))\n",
    "b=int(input(\"enter the value of b:\"))\n",
    "oper=input(\"enter the operator:\")\n",
    "match oper:\n",
    "          case\"+\":print(\"sum=\",a+b)\n",
    "          case\"-\":print(\"difference=\",a-b)\n",
    "          case\"*\":print(\"product=\",a*b)\n",
    "          case\"/\":print(\"quotient=\",a/b)\n",
    "          case\"_\":print(\"invalid\")\n"
   ]
  },
  {
   "cell_type": "code",
   "execution_count": null,
   "id": "ea076c9c-e177-4074-a5a0-fb978cdc4c3e",
   "metadata": {},
   "outputs": [],
   "source": []
  }
 ],
 "metadata": {
  "kernelspec": {
   "display_name": "Python 3 (ipykernel)",
   "language": "python",
   "name": "python3"
  },
  "language_info": {
   "codemirror_mode": {
    "name": "ipython",
    "version": 3
   },
   "file_extension": ".py",
   "mimetype": "text/x-python",
   "name": "python",
   "nbconvert_exporter": "python",
   "pygments_lexer": "ipython3",
   "version": "3.12.3"
  }
 },
 "nbformat": 4,
 "nbformat_minor": 5
}
