{
 "cells": [
  {
   "cell_type": "code",
   "execution_count": 1,
   "id": "d7cf7516-c444-4f1c-a562-48e605fe5e33",
   "metadata": {},
   "outputs": [
    {
     "name": "stdout",
     "output_type": "stream",
     "text": [
      "[1, 2, 4.6, 'usha']\n",
      "<class 'list'>\n",
      "<class 'str'>\n",
      "h\n",
      "1\n",
      "2\n",
      "4.6\n",
      "usha\n"
     ]
    }
   ],
   "source": [
    "a=[1,2,4.6,\"usha\"]\n",
    "print(a)\n",
    "print(type(a))\n",
    "print(type(a[3]))\n",
    "print(a[3][2])\n",
    "for i in range(0,4):\n",
    "               print(a[i])\n",
    "               \n",
    "               "
   ]
  },
  {
   "cell_type": "code",
   "execution_count": 2,
   "id": "2017a3ec-6768-46a0-a39f-fa2723756a5f",
   "metadata": {},
   "outputs": [
    {
     "name": "stdout",
     "output_type": "stream",
     "text": [
      "[2, 4, 6.7, 8, 12, 14]\n",
      "6\n",
      "[2, 4, 6.7, 8, 12, 14, 'usha']\n",
      "[14, 12, 8, 6.7, 4, 2]\n",
      "[2, 4, 6.7, 8, 12, 14]\n",
      "[2, 4, 6.7, 8, 12, 14, 2, 4, 6.7, 8, 12, 14, 'usha']\n"
     ]
    }
   ],
   "source": [
    "a=[2,4,6.7,8,12,14]\n",
    "b=a.copy()\n",
    "print(b)\n",
    "print(len(b))\n",
    "a.append(\"usha\")\n",
    "print(a)\n",
    "b.sort(reverse=True)\n",
    "print(b)\n",
    "b.sort(reverse=False)\n",
    "print(b)\n",
    "b.extend(a)\n",
    "print(b)"
   ]
  },
  {
   "cell_type": "code",
   "execution_count": 3,
   "id": "d7cc8407-579c-48fe-9649-7370efabec56",
   "metadata": {},
   "outputs": [
    {
     "name": "stdout",
     "output_type": "stream",
     "text": [
      "2\n",
      "65367\n",
      "78\n",
      "44\n",
      "9\n",
      "100\n",
      "68\n",
      "449\n",
      "3\n",
      "4\n",
      "5\n",
      "10\n",
      "15\n",
      "9\n"
     ]
    }
   ],
   "source": [
    "a=[2,65367,78,44,9,100,68,449,3,4,5,10,15,9]\n",
    "for x in a:\n",
    "    print(x)"
   ]
  },
  {
   "cell_type": "code",
   "execution_count": 5,
   "id": "1718c367-81c5-4303-a777-24d24d011d1c",
   "metadata": {},
   "outputs": [
    {
     "name": "stdout",
     "output_type": "stream",
     "text": [
      "list[2, 4, 6, 8, 10]\n",
      "(2, 4, 6.7, 8, 12, 'flower', 2, 4, 6.7, 8, 12, 14, 'usha')\n"
     ]
    }
   ],
   "source": [
    "a=list[2,4,6,8,10]\n",
    "print(a)\n",
    "b[5]=\"flower\"\n",
    "a=tuple(b)\n",
    "print(a)"
   ]
  },
  {
   "cell_type": "code",
   "execution_count": 7,
   "id": "5ee04534-e536-4858-98d2-153f019f7369",
   "metadata": {},
   "outputs": [
    {
     "name": "stdout",
     "output_type": "stream",
     "text": [
      "50\n",
      "40\n",
      "30\n",
      "20\n",
      "10\n"
     ]
    }
   ],
   "source": [
    "a=(10,20,30,40,50)\n",
    "for x in range(-1,-1*(len(a)+1),-1):\n",
    "    print(a[x])"
   ]
  },
  {
   "cell_type": "code",
   "execution_count": 8,
   "id": "18efe9af-b0f4-4f53-9f2d-559ffd8ba3e9",
   "metadata": {},
   "outputs": [
    {
     "name": "stdout",
     "output_type": "stream",
     "text": [
      "9\n",
      "7\n",
      "winny\n",
      "5\n",
      "2\n"
     ]
    }
   ],
   "source": [
    "a=[2,5,\"winny\",7,9]\n",
    "for x in range(0,len(a)):\n",
    "    print(a[-1*(x+1)])"
   ]
  },
  {
   "cell_type": "code",
   "execution_count": 18,
   "id": "617f2e05-6d27-4a13-b4ee-dd547e4b6555",
   "metadata": {},
   "outputs": [
    {
     "name": "stdout",
     "output_type": "stream",
     "text": [
      "{1: 'Usha', 2: 'kinny'}\n",
      "kinny\n",
      "n\n",
      "dict_keys([1, 2])\n",
      "dict_items([(1, 'Usha'), (2, 'kinny')])\n",
      "kinny\n"
     ]
    }
   ],
   "source": [
    "#Dictinory\n",
    "#KEYS AND VALUES\n",
    "D={1:\"Usha\",2:\"kinny\"}\n",
    "print(D)\n",
    "print(D[2])\n",
    "print(D[2][3])\n",
    "print(D.keys())\n",
    "print(D.items())\n",
    "print(D.get(2))"
   ]
  },
  {
   "cell_type": "code",
   "execution_count": 4,
   "id": "d7393293-fa9e-4ffe-a0b5-bf99367e78dd",
   "metadata": {},
   "outputs": [
    {
     "name": "stdin",
     "output_type": "stream",
     "text": [
      "enter the index: 8\n"
     ]
    },
    {
     "name": "stdout",
     "output_type": "stream",
     "text": [
      "there is no such index\n"
     ]
    }
   ],
   "source": [
    "a=[1,2,3,4,5,6,7]\n",
    "i=int(input(\"enter the index:\"))\n",
    "try:\n",
    "    print(a[i])\n",
    "except:\n",
    "    print(\"there is no such index\")"
   ]
  },
  {
   "cell_type": "code",
   "execution_count": null,
   "id": "c60a8f86-a114-4eef-a9f9-ed301620fcd9",
   "metadata": {},
   "outputs": [],
   "source": []
  }
 ],
 "metadata": {
  "kernelspec": {
   "display_name": "Python 3 (ipykernel)",
   "language": "python",
   "name": "python3"
  },
  "language_info": {
   "codemirror_mode": {
    "name": "ipython",
    "version": 3
   },
   "file_extension": ".py",
   "mimetype": "text/x-python",
   "name": "python",
   "nbconvert_exporter": "python",
   "pygments_lexer": "ipython3",
   "version": "3.12.3"
  }
 },
 "nbformat": 4,
 "nbformat_minor": 5
}
